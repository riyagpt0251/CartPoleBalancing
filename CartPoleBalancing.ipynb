{
  "nbformat": 4,
  "nbformat_minor": 0,
  "metadata": {
    "colab": {
      "provenance": [],
      "authorship_tag": "ABX9TyPhCuKjIE0/7RlYsavRAXti",
      "include_colab_link": true
    },
    "kernelspec": {
      "name": "python3",
      "display_name": "Python 3"
    },
    "language_info": {
      "name": "python"
    }
  },
  "cells": [
    {
      "cell_type": "markdown",
      "metadata": {
        "id": "view-in-github",
        "colab_type": "text"
      },
      "source": [
        "<a href=\"https://colab.research.google.com/github/riyagpt0251/CartPoleBalancing/blob/main/CartPoleBalancing.ipynb\" target=\"_parent\"><img src=\"https://colab.research.google.com/assets/colab-badge.svg\" alt=\"Open In Colab\"/></a>"
      ]
    },
    {
      "cell_type": "code",
      "execution_count": 2,
      "metadata": {
        "colab": {
          "base_uri": "https://localhost:8080/"
        },
        "id": "w0ixl5OiaC5L",
        "outputId": "877fd83f-5ed3-4d32-8577-d2fae40c4e1f"
      },
      "outputs": [
        {
          "output_type": "stream",
          "name": "stdout",
          "text": [
            "Requirement already satisfied: gym in /usr/local/lib/python3.11/dist-packages (0.25.2)\n",
            "Requirement already satisfied: numpy in /usr/local/lib/python3.11/dist-packages (1.26.4)\n",
            "Requirement already satisfied: cloudpickle>=1.2.0 in /usr/local/lib/python3.11/dist-packages (from gym) (3.1.1)\n",
            "Requirement already satisfied: gym_notices>=0.0.4 in /usr/local/lib/python3.11/dist-packages (from gym) (0.0.8)\n"
          ]
        }
      ],
      "source": [
        "# Step 1: Install Required Libraries\n",
        "!pip install gym numpy\n",
        "\n"
      ]
    },
    {
      "cell_type": "code",
      "source": [
        "# Step 2: Import Libraries\n",
        "import gym\n",
        "import numpy as np\n",
        "\n"
      ],
      "metadata": {
        "id": "PBxG3jgJaPUM"
      },
      "execution_count": 3,
      "outputs": []
    },
    {
      "cell_type": "code",
      "source": [
        "# Step 3: Set Up the Environment\n",
        "env = gym.make('CartPole-v1')\n",
        "\n"
      ],
      "metadata": {
        "colab": {
          "base_uri": "https://localhost:8080/"
        },
        "id": "hPnbslIeaUn6",
        "outputId": "4a85358a-b0d8-49bb-8f36-28796bcdd6f5"
      },
      "execution_count": 4,
      "outputs": [
        {
          "output_type": "stream",
          "name": "stderr",
          "text": [
            "/usr/local/lib/python3.11/dist-packages/gym/core.py:317: DeprecationWarning: \u001b[33mWARN: Initializing wrapper in old step API which returns one bool instead of two. It is recommended to set `new_step_api=True` to use new step API. This will be the default behaviour in future.\u001b[0m\n",
            "  deprecation(\n",
            "/usr/local/lib/python3.11/dist-packages/gym/wrappers/step_api_compatibility.py:39: DeprecationWarning: \u001b[33mWARN: Initializing environment in old step API which returns one bool instead of two. It is recommended to set `new_step_api=True` to use new step API. This will be the default behaviour in future.\u001b[0m\n",
            "  deprecation(\n"
          ]
        }
      ]
    },
    {
      "cell_type": "code",
      "source": [
        "# Step 4: Define Q-Learning Parameters\n",
        "# Discretize the state space\n",
        "num_buckets = (1, 1, 6, 12)  # (cart position, cart velocity, pole angle, pole angular velocity)\n",
        "num_actions = env.action_space.n  # Number of possible actions (left or right)\n",
        "\n"
      ],
      "metadata": {
        "id": "6Xxx-FxAaZ19"
      },
      "execution_count": 5,
      "outputs": []
    },
    {
      "cell_type": "code",
      "source": [
        "# Q-table\n",
        "Q = np.zeros(num_buckets + (num_actions,))\n",
        "\n",
        "# Hyperparameters\n",
        "alpha = 0.1  # Learning rate\n",
        "gamma = 0.99  # Discount factor\n",
        "epsilon = 1.0  # Exploration rate\n",
        "epsilon_decay = 0.995\n",
        "epsilon_min = 0.01\n",
        "\n"
      ],
      "metadata": {
        "id": "WzNs7TyqafQ3"
      },
      "execution_count": 6,
      "outputs": []
    },
    {
      "cell_type": "code",
      "source": [
        "# Step 5: Discretize the State Space\n",
        "def discretize_state(state):\n",
        "    discretized_state = []\n",
        "    for i in range(len(state)):\n",
        "        scale = (state[i] + abs(env.observation_space.low[i])) / (env.observation_space.high[i] - env.observation_space.low[i])\n",
        "        discretized_state.append(int(round((num_buckets[i] - 1) * scale)))\n",
        "        discretized_state[i] = min(num_buckets[i] - 1, max(0, discretized_state[i]))\n",
        "    return tuple(discretized_state)\n"
      ],
      "metadata": {
        "id": "Av1mnAFjajzn"
      },
      "execution_count": 7,
      "outputs": []
    },
    {
      "cell_type": "code",
      "source": [
        "\n",
        "# Step 6: Implement Q-Learning\n",
        "def q_learning(episodes):\n",
        "    global epsilon\n",
        "    for episode in range(episodes):\n",
        "        state = discretize_state(env.reset())\n",
        "        done = False\n",
        "        total_reward = 0\n",
        "\n",
        "        while not done:\n",
        "            # Exploration vs exploitation\n",
        "            if np.random.rand() < epsilon:\n",
        "                action = env.action_space.sample()  # Explore\n",
        "            else:\n",
        "                action = np.argmax(Q[state])  # Exploit\n",
        "\n",
        "            # Take action\n",
        "            next_state, reward, done, _ = env.step(action)\n",
        "            next_state = discretize_state(next_state)\n",
        "\n",
        "            # Update Q-value\n",
        "            Q[state + (action,)] += alpha * (reward + gamma * np.max(Q[next_state]) - Q[state + (action,)])\n",
        "\n",
        "            state = next_state\n",
        "            total_reward += reward\n",
        "\n",
        "        # Decay epsilon\n",
        "        epsilon = max(epsilon_min, epsilon * epsilon_decay)\n",
        "\n",
        "        if (episode + 1) % 100 == 0:\n",
        "            print(f\"Episode: {episode + 1}, Total Reward: {total_reward}, Epsilon: {epsilon}\")\n",
        "\n"
      ],
      "metadata": {
        "id": "isdt1JD0anvs"
      },
      "execution_count": 8,
      "outputs": []
    },
    {
      "cell_type": "code",
      "source": [
        "# Step 7: Train the Agent\n",
        "q_learning(episodes=1000)\n",
        "\n"
      ],
      "metadata": {
        "colab": {
          "base_uri": "https://localhost:8080/"
        },
        "id": "d5ufnPFzarce",
        "outputId": "660fc18d-35b9-468b-8bca-a3befa489334"
      },
      "execution_count": 9,
      "outputs": [
        {
          "output_type": "stream",
          "name": "stderr",
          "text": [
            "<ipython-input-7-8b96d6f42942>:5: RuntimeWarning: overflow encountered in scalar subtract\n",
            "  scale = (state[i] + abs(env.observation_space.low[i])) / (env.observation_space.high[i] - env.observation_space.low[i])\n",
            "/usr/local/lib/python3.11/dist-packages/gym/utils/passive_env_checker.py:241: DeprecationWarning: `np.bool8` is a deprecated alias for `np.bool_`.  (Deprecated NumPy 1.24)\n",
            "  if not isinstance(terminated, (bool, np.bool8)):\n"
          ]
        },
        {
          "output_type": "stream",
          "name": "stdout",
          "text": [
            "Episode: 100, Total Reward: 34.0, Epsilon: 0.6057704364907278\n",
            "Episode: 200, Total Reward: 12.0, Epsilon: 0.3669578217261671\n",
            "Episode: 300, Total Reward: 11.0, Epsilon: 0.22229219984074702\n",
            "Episode: 400, Total Reward: 43.0, Epsilon: 0.1346580429260134\n",
            "Episode: 500, Total Reward: 18.0, Epsilon: 0.08157186144027828\n",
            "Episode: 600, Total Reward: 42.0, Epsilon: 0.0494138221100385\n",
            "Episode: 700, Total Reward: 25.0, Epsilon: 0.029933432588273214\n",
            "Episode: 800, Total Reward: 35.0, Epsilon: 0.018132788524664028\n",
            "Episode: 900, Total Reward: 39.0, Epsilon: 0.01098430721937979\n",
            "Episode: 1000, Total Reward: 24.0, Epsilon: 0.01\n"
          ]
        }
      ]
    },
    {
      "cell_type": "code",
      "source": [
        "# Step 8: Evaluate the Agent\n",
        "def evaluate_agent(episodes=100):\n",
        "    total_rewards = []\n",
        "    for episode in range(episodes):\n",
        "        state = discretize_state(env.reset())\n",
        "        done = False\n",
        "        total_reward = 0\n",
        "\n",
        "        while not done:\n",
        "            action = np.argmax(Q[state])  # Always exploit\n",
        "            state, reward, done, _ = env.step(action)\n",
        "            state = discretize_state(state)\n",
        "            total_reward += reward\n",
        "\n",
        "        total_rewards.append(total_reward)\n",
        "        print(f\"Evaluation Episode: {episode + 1}, Total Reward: {total_reward}\")\n",
        "\n",
        "    avg_reward = np.mean(total_rewards)\n",
        "    print(f\"Average Reward over {episodes} episodes: {avg_reward}\")\n",
        "\n",
        "# Evaluate the trained agent\n",
        "evaluate_agent(episodes=100)"
      ],
      "metadata": {
        "colab": {
          "base_uri": "https://localhost:8080/"
        },
        "id": "b3HNCjAKatpY",
        "outputId": "ed341a40-f7fd-4c20-8af3-9f1a6b0e0c25"
      },
      "execution_count": 10,
      "outputs": [
        {
          "output_type": "stream",
          "name": "stdout",
          "text": [
            "Evaluation Episode: 1, Total Reward: 33.0\n",
            "Evaluation Episode: 2, Total Reward: 26.0\n",
            "Evaluation Episode: 3, Total Reward: 38.0\n",
            "Evaluation Episode: 4, Total Reward: 44.0\n",
            "Evaluation Episode: 5, Total Reward: 36.0\n",
            "Evaluation Episode: 6, Total Reward: 39.0\n",
            "Evaluation Episode: 7, Total Reward: 35.0\n",
            "Evaluation Episode: 8, Total Reward: 34.0\n",
            "Evaluation Episode: 9, Total Reward: 25.0\n",
            "Evaluation Episode: 10, Total Reward: 45.0\n",
            "Evaluation Episode: 11, Total Reward: 39.0\n",
            "Evaluation Episode: 12, Total Reward: 25.0\n",
            "Evaluation Episode: 13, Total Reward: 26.0\n",
            "Evaluation Episode: 14, Total Reward: 37.0\n",
            "Evaluation Episode: 15, Total Reward: 35.0\n",
            "Evaluation Episode: 16, Total Reward: 41.0\n",
            "Evaluation Episode: 17, Total Reward: 36.0\n",
            "Evaluation Episode: 18, Total Reward: 41.0\n",
            "Evaluation Episode: 19, Total Reward: 35.0\n",
            "Evaluation Episode: 20, Total Reward: 45.0\n",
            "Evaluation Episode: 21, Total Reward: 47.0\n",
            "Evaluation Episode: 22, Total Reward: 37.0\n",
            "Evaluation Episode: 23, Total Reward: 39.0\n",
            "Evaluation Episode: 24, Total Reward: 39.0\n",
            "Evaluation Episode: 25, Total Reward: 42.0\n",
            "Evaluation Episode: 26, Total Reward: 36.0\n",
            "Evaluation Episode: 27, Total Reward: 31.0\n",
            "Evaluation Episode: 28, Total Reward: 24.0\n",
            "Evaluation Episode: 29, Total Reward: 32.0\n",
            "Evaluation Episode: 30, Total Reward: 47.0\n",
            "Evaluation Episode: 31, Total Reward: 37.0\n",
            "Evaluation Episode: 32, Total Reward: 51.0\n",
            "Evaluation Episode: 33, Total Reward: 41.0\n",
            "Evaluation Episode: 34, Total Reward: 27.0\n",
            "Evaluation Episode: 35, Total Reward: 45.0\n",
            "Evaluation Episode: 36, Total Reward: 25.0\n"
          ]
        },
        {
          "output_type": "stream",
          "name": "stderr",
          "text": [
            "<ipython-input-7-8b96d6f42942>:5: RuntimeWarning: overflow encountered in scalar subtract\n",
            "  scale = (state[i] + abs(env.observation_space.low[i])) / (env.observation_space.high[i] - env.observation_space.low[i])\n"
          ]
        },
        {
          "output_type": "stream",
          "name": "stdout",
          "text": [
            "Evaluation Episode: 37, Total Reward: 31.0\n",
            "Evaluation Episode: 38, Total Reward: 34.0\n",
            "Evaluation Episode: 39, Total Reward: 44.0\n",
            "Evaluation Episode: 40, Total Reward: 35.0\n",
            "Evaluation Episode: 41, Total Reward: 30.0\n",
            "Evaluation Episode: 42, Total Reward: 39.0\n",
            "Evaluation Episode: 43, Total Reward: 41.0\n",
            "Evaluation Episode: 44, Total Reward: 41.0\n",
            "Evaluation Episode: 45, Total Reward: 42.0\n",
            "Evaluation Episode: 46, Total Reward: 39.0\n",
            "Evaluation Episode: 47, Total Reward: 35.0\n",
            "Evaluation Episode: 48, Total Reward: 25.0\n",
            "Evaluation Episode: 49, Total Reward: 32.0\n",
            "Evaluation Episode: 50, Total Reward: 31.0\n",
            "Evaluation Episode: 51, Total Reward: 31.0\n",
            "Evaluation Episode: 52, Total Reward: 34.0\n",
            "Evaluation Episode: 53, Total Reward: 40.0\n",
            "Evaluation Episode: 54, Total Reward: 36.0\n",
            "Evaluation Episode: 55, Total Reward: 33.0\n",
            "Evaluation Episode: 56, Total Reward: 31.0\n",
            "Evaluation Episode: 57, Total Reward: 38.0\n",
            "Evaluation Episode: 58, Total Reward: 26.0\n",
            "Evaluation Episode: 59, Total Reward: 44.0\n",
            "Evaluation Episode: 60, Total Reward: 50.0\n",
            "Evaluation Episode: 61, Total Reward: 35.0\n",
            "Evaluation Episode: 62, Total Reward: 32.0\n",
            "Evaluation Episode: 63, Total Reward: 32.0\n",
            "Evaluation Episode: 64, Total Reward: 35.0\n",
            "Evaluation Episode: 65, Total Reward: 44.0\n",
            "Evaluation Episode: 66, Total Reward: 25.0\n",
            "Evaluation Episode: 67, Total Reward: 40.0\n",
            "Evaluation Episode: 68, Total Reward: 35.0\n",
            "Evaluation Episode: 69, Total Reward: 41.0\n",
            "Evaluation Episode: 70, Total Reward: 33.0\n",
            "Evaluation Episode: 71, Total Reward: 33.0\n",
            "Evaluation Episode: 72, Total Reward: 38.0\n",
            "Evaluation Episode: 73, Total Reward: 36.0\n",
            "Evaluation Episode: 74, Total Reward: 24.0\n",
            "Evaluation Episode: 75, Total Reward: 41.0\n",
            "Evaluation Episode: 76, Total Reward: 49.0\n",
            "Evaluation Episode: 77, Total Reward: 34.0\n",
            "Evaluation Episode: 78, Total Reward: 35.0\n",
            "Evaluation Episode: 79, Total Reward: 36.0\n",
            "Evaluation Episode: 80, Total Reward: 37.0\n",
            "Evaluation Episode: 81, Total Reward: 37.0\n",
            "Evaluation Episode: 82, Total Reward: 35.0\n",
            "Evaluation Episode: 83, Total Reward: 47.0\n",
            "Evaluation Episode: 84, Total Reward: 45.0\n",
            "Evaluation Episode: 85, Total Reward: 34.0\n",
            "Evaluation Episode: 86, Total Reward: 37.0\n",
            "Evaluation Episode: 87, Total Reward: 33.0\n",
            "Evaluation Episode: 88, Total Reward: 40.0\n",
            "Evaluation Episode: 89, Total Reward: 38.0\n",
            "Evaluation Episode: 90, Total Reward: 45.0\n",
            "Evaluation Episode: 91, Total Reward: 48.0\n",
            "Evaluation Episode: 92, Total Reward: 39.0\n",
            "Evaluation Episode: 93, Total Reward: 53.0\n",
            "Evaluation Episode: 94, Total Reward: 25.0\n",
            "Evaluation Episode: 95, Total Reward: 28.0\n",
            "Evaluation Episode: 96, Total Reward: 36.0\n",
            "Evaluation Episode: 97, Total Reward: 45.0\n",
            "Evaluation Episode: 98, Total Reward: 28.0\n",
            "Evaluation Episode: 99, Total Reward: 24.0\n",
            "Evaluation Episode: 100, Total Reward: 25.0\n",
            "Average Reward over 100 episodes: 36.34\n"
          ]
        }
      ]
    }
  ]
}